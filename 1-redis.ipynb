{
 "cells": [
  {
   "cell_type": "markdown",
   "metadata": {},
   "source": [
    "# Redis tutorial"
   ]
  },
  {
   "cell_type": "markdown",
   "metadata": {},
   "source": [
    "## Prerequisites"
   ]
  },
  {
   "cell_type": "markdown",
   "metadata": {},
   "source": [
    "### Documentation\n",
    "\n",
    "You will find all documentation for :\n",
    "* [Redis commands](https://redis.io/commands)\n",
    "* [Redis python client](https://redis-py.readthedocs.io/en/latest/)\n",
    "\n",
    "Though the tutorial asks you to use Redis commands, they all have an equivalent in the Python client library."
   ]
  },
  {
   "cell_type": "markdown",
   "metadata": {},
   "source": [
    "### Import libraries"
   ]
  },
  {
   "cell_type": "code",
   "execution_count": 1,
   "metadata": {},
   "outputs": [],
   "source": [
    "import redis"
   ]
  },
  {
   "cell_type": "code",
   "execution_count": 2,
   "metadata": {},
   "outputs": [],
   "source": [
    "r = redis.Redis(host='localhost', port=6379)"
   ]
  },
  {
   "cell_type": "code",
   "execution_count": 3,
   "metadata": {},
   "outputs": [
    {
     "name": "stdout",
     "output_type": "stream",
     "text": [
      "b'bar'\n"
     ]
    }
   ],
   "source": [
    "r.set('foo', 'bar')\n",
    "value = r.get('foo')\n",
    "print(value)"
   ]
  },
  {
   "cell_type": "markdown",
   "metadata": {},
   "source": [
    "You can launch a terminal aside, connect to your server with a Redis client and check that the value is still present :\n",
    "\n",
    "```bash\n",
    "vagrant@nosql:~$ redis-cli\n",
    "127.0.0.1:6379> get foo\n",
    "\"bar\"\n",
    "```"
   ]
  },
  {
   "cell_type": "markdown",
   "metadata": {},
   "source": [
    "## I. Quick start"
   ]
  },
  {
   "cell_type": "markdown",
   "metadata": {},
   "source": [
    "### Strings and numbers"
   ]
  },
  {
   "cell_type": "markdown",
   "metadata": {},
   "source": [
    "**Q** : Store the string `hello world` in key `greetings` with a `SET` command. Then use a `GET` command to retrieve it."
   ]
  },
  {
   "cell_type": "code",
   "execution_count": 4,
   "metadata": {},
   "outputs": [
    {
     "name": "stdout",
     "output_type": "stream",
     "text": [
      "b'hello world'\n"
     ]
    }
   ],
   "source": [
    "r.set('greetings', 'hello world')\n",
    "\n",
    "print(r.get('greetings'))"
   ]
  },
  {
   "cell_type": "markdown",
   "metadata": {},
   "source": [
    "**Q** : Create a `connections` key with value 0. Find the `INCR` command to increment its value, then display it. \n",
    "\n",
    "Try to increment the value for `greetings`."
   ]
  },
  {
   "cell_type": "code",
   "execution_count": 5,
   "metadata": {},
   "outputs": [
    {
     "name": "stdout",
     "output_type": "stream",
     "text": [
      "before b'0'\n",
      "after b'1'\n"
     ]
    }
   ],
   "source": [
    "r.set('connections', 0)\n",
    "print('before',r.get('connections'))\n",
    "r.incr('connections')\n",
    "\n",
    "print('after',r.get('connections'))\n"
   ]
  },
  {
   "cell_type": "markdown",
   "metadata": {},
   "source": [
    "### Lists"
   ]
  },
  {
   "cell_type": "markdown",
   "metadata": {},
   "source": [
    "**Q** : Create a `colors` list with strings `red`, `black` and `blue`, using the `RPUSH` command."
   ]
  },
  {
   "cell_type": "code",
   "execution_count": 6,
   "metadata": {},
   "outputs": [],
   "source": [
    "colors = ['red',\n",
    "          'black',\n",
    "          'blue']\n",
    "\n",
    "for color in colors:\n",
    "    r.rpush('colors', color)\n"
   ]
  },
  {
   "cell_type": "markdown",
   "metadata": {},
   "source": [
    "**Q** : Display the second element of the list with `LINDEX`"
   ]
  },
  {
   "cell_type": "code",
   "execution_count": 7,
   "metadata": {},
   "outputs": [
    {
     "name": "stdout",
     "output_type": "stream",
     "text": [
      "b'red'\n",
      "b'red'\n",
      "b'red'\n",
      "b'red'\n",
      "b'blue'\n",
      "b'black'\n"
     ]
    }
   ],
   "source": [
    "print(r.lindex('colors', 0)) # First element\n",
    "print(r.lindex('colors', 1)) # Second element\n",
    "print(r.lindex('colors', 2))  # Third element\n",
    "print(r.lindex('colors', 3)) # Fourth element this case is None\n",
    "print(r.lindex('colors', -1)) # Last element\n",
    "print(r.lindex('colors', -2)) # Second last element"
   ]
  },
  {
   "cell_type": "markdown",
   "metadata": {},
   "source": [
    "**Q** : Display the full list with `LRANGE`"
   ]
  },
  {
   "cell_type": "code",
   "execution_count": 8,
   "metadata": {},
   "outputs": [
    {
     "name": "stdout",
     "output_type": "stream",
     "text": [
      "Full list: [b'red', b'red', b'red', b'red', b'red', b'black', b'blue', b'red', b'black', b'blue', b'red', b'black', b'blue', b'red', b'black', b'blue']\n"
     ]
    }
   ],
   "source": [
    "print(\"Full list:\", r.lrange('colors', 0, -1))\n"
   ]
  },
  {
   "cell_type": "markdown",
   "metadata": {},
   "source": [
    "### Using sets"
   ]
  },
  {
   "cell_type": "markdown",
   "metadata": {},
   "source": [
    "**Q** : Create a `nosql` set containing values `redis`, `mongodb` and `orientdb`, using the `SADD` command."
   ]
  },
  {
   "cell_type": "code",
   "execution_count": 9,
   "metadata": {},
   "outputs": [],
   "source": [
    "nosql = ('redis',\n",
    "        'mongodb',\n",
    "        'orinetndb')\n",
    "\n",
    "for db in nosql:\n",
    "    r.sadd('nosql', db)"
   ]
  },
  {
   "cell_type": "markdown",
   "metadata": {},
   "source": [
    "**Q** : Test if `mysql` is inside the set, using `SISMEMBER`"
   ]
  },
  {
   "cell_type": "code",
   "execution_count": 10,
   "metadata": {},
   "outputs": [
    {
     "name": "stdout",
     "output_type": "stream",
     "text": [
      "1\n",
      "0\n"
     ]
    }
   ],
   "source": [
    "print(r.sismember('nosql', 'mongodb')) # Returns True or 1\n",
    "print(r.sismember('nosql', 'mysql')) # Returns False or 0"
   ]
  },
  {
   "cell_type": "markdown",
   "metadata": {},
   "source": [
    "**Q** : Add `hbase` to the set with `SADD`, then display all elements of the set with `SMEMBERS`. Try to add `redis` again and see what happens."
   ]
  },
  {
   "cell_type": "code",
   "execution_count": 11,
   "metadata": {},
   "outputs": [
    {
     "name": "stdout",
     "output_type": "stream",
     "text": [
      "{b'orinetndb', b'mongodb', b'redis', b'hbase'}\n",
      "{b'orinetndb', b'mongodb', b'redis', b'hbase'}\n"
     ]
    }
   ],
   "source": [
    "r.sadd('nosql', 'hbase')\n",
    "\n",
    "print(r.smembers('nosql'))\n",
    "\n",
    "try:\n",
    "    r.sadd('nosql', 'redis')\n",
    "    print(r.smembers('nosql')) # Returns all elements in the set redis is not repeated\n",
    "except Exception as e:\n",
    "    print(\"Error:\", e)"
   ]
  },
  {
   "cell_type": "markdown",
   "metadata": {},
   "source": [
    "### Using sorted sets\n",
    "\n",
    "Sorted Sets are similar to Redis Sets with the unique feature of values stored in a set. The difference is, every member of a Sorted Set is associated with a score, that is used in order to take the sorted set ordered, from the smallest to the greatest score."
   ]
  },
  {
   "cell_type": "markdown",
   "metadata": {},
   "source": [
    "**Q** : Using `ZADD`, create a sorted set `top14` with the following entries :\n",
    "\n",
    "```\n",
    "score city\n",
    "10 Agen \n",
    "33 Bordeaux \n",
    "32 Brive \n",
    "29 Castres \n",
    "38 Clermont \n",
    "24 Grenoble \n",
    "26 La Rochelle \n",
    "32 Montpellier \n",
    "14 Oyonnax \n",
    "20 Pau \n",
    "40 Racing \n",
    "22 Stade Français \n",
    "36 Toulon \n",
    "36 Toulouse\n",
    "```"
   ]
  },
  {
   "cell_type": "code",
   "execution_count": 12,
   "metadata": {},
   "outputs": [],
   "source": [
    "city_scores = {\n",
    " 'Clermont': 38,\n",
    " 'Grenoble': 24,\n",
    " 'La Rochelle': 26,\n",
    " 'Montpellier': 32,\n",
    " 'Oyonnax': 14,\n",
    " 'Pau': 20,\n",
    " 'Racing': 40,\n",
    " 'Stade Français': 22,\n",
    " 'Bordeaux': 33,\n",
    " 'Castres': 29,\n",
    " 'Agen': 10,\n",
    " 'Toulon': 36,\n",
    " 'Brive': 32,\n",
    " 'Toulouse': 36,\n",
    "}\n",
    "\n",
    "for city, score in city_scores.items():\n",
    "    r.zadd('city_scores', {city: score})\n",
    "    \n"
   ]
  },
  {
   "cell_type": "code",
   "execution_count": 13,
   "metadata": {},
   "outputs": [
    {
     "name": "stdout",
     "output_type": "stream",
     "text": [
      "[(b'Agen', 10.0), (b'Oyonnax', 14.0), (b'Pau', 20.0), (b'Stade Fran\\xc3\\xa7ais', 22.0), (b'Grenoble', 24.0), (b'La Rochelle', 26.0), (b'Castres', 29.0), (b'Brive', 32.0), (b'Montpellier', 32.0), (b'Bordeaux', 33.0), (b'Toulon', 36.0), (b'Toulouse', 36.0), (b'Clermont', 38.0), (b'Racing', 40.0)]\n"
     ]
    }
   ],
   "source": [
    "print(r.zrange('city_scores', 0, -1, withscores=True)) # Returns all elements in the sorted set"
   ]
  },
  {
   "cell_type": "markdown",
   "metadata": {},
   "source": [
    "**Q** : Fetch the score for `Toulon` with `ZSCORE`, and its ranking with `ZRANK`."
   ]
  },
  {
   "cell_type": "code",
   "execution_count": 14,
   "metadata": {},
   "outputs": [
    {
     "name": "stdout",
     "output_type": "stream",
     "text": [
      "36.0\n",
      "10\n"
     ]
    }
   ],
   "source": [
    "print(r.zscore('city_scores', 'Toulon')) # Returns the score of the city\n",
    "print(r.zrank('city_scores', 'Toulon')) # Returns the rank of the city"
   ]
  },
  {
   "cell_type": "markdown",
   "metadata": {},
   "source": [
    "**Q** : `ZRANK` starts at 0 and scores are sorted from lowest to highest, so we should use the `ZREVRANK` for a true ranking of our cities."
   ]
  },
  {
   "cell_type": "code",
   "execution_count": 15,
   "metadata": {},
   "outputs": [
    {
     "name": "stdout",
     "output_type": "stream",
     "text": [
      "3\n"
     ]
    }
   ],
   "source": [
    "# get revert Rank using ZREVRANK\n",
    "\n",
    "print(r.zrevrank('city_scores', 'Toulon')) # Returns the rank of the city"
   ]
  },
  {
   "cell_type": "markdown",
   "metadata": {},
   "source": [
    "**Q** : Find the commands to display :\n",
    "* the 3 best teams\n",
    "* teams with more than 35 points"
   ]
  },
  {
   "cell_type": "code",
   "execution_count": 16,
   "metadata": {},
   "outputs": [
    {
     "name": "stdout",
     "output_type": "stream",
     "text": [
      "[(b'Agen', 10.0), (b'Oyonnax', 14.0), (b'Pau', 20.0)]\n",
      "[(b'Racing', 40.0), (b'Clermont', 38.0), (b'Toulouse', 36.0)]\n"
     ]
    }
   ],
   "source": [
    "# Get best 3 items\n",
    "print(r.zrange('city_scores', 0, 2, withscores=True)) # Returns the rank of the city ascending order\n",
    "print(r.zrevrange('city_scores', 0, 2, withscores=True)) # Returns the rank of the city descending order "
   ]
  },
  {
   "cell_type": "markdown",
   "metadata": {},
   "source": [
    "### Using dictionaries"
   ]
  },
  {
   "cell_type": "markdown",
   "metadata": {},
   "source": [
    "**Q** : Create a dictionary `user:1` with `HMSET` with properties `id (1), name (Jean), age (22)`. Display it with `HGETALL`"
   ]
  },
  {
   "cell_type": "code",
   "execution_count": 17,
   "metadata": {},
   "outputs": [
    {
     "data": {
      "text/plain": [
       "0"
      ]
     },
     "execution_count": 17,
     "metadata": {},
     "output_type": "execute_result"
    }
   ],
   "source": [
    "r.hset('user', 'id', '1')\n",
    "r.hset('user', 'name', 'Jean')\n",
    "r.hset('user', 'age', 29)\n",
    "\n"
   ]
  },
  {
   "cell_type": "code",
   "execution_count": 18,
   "metadata": {},
   "outputs": [
    {
     "data": {
      "text/plain": [
       "{b'id': b'1', b'name': b'Jean', b'age': b'29', b'city': b'Lyon'}"
      ]
     },
     "execution_count": 18,
     "metadata": {},
     "output_type": "execute_result"
    }
   ],
   "source": [
    "r.hgetall('user')"
   ]
  },
  {
   "cell_type": "markdown",
   "metadata": {},
   "source": [
    "**Q** : Add a `city (Lyon)` property and rename the user from `Jean` to `Paul`."
   ]
  },
  {
   "cell_type": "code",
   "execution_count": 19,
   "metadata": {},
   "outputs": [
    {
     "name": "stdout",
     "output_type": "stream",
     "text": [
      "{b'id': b'1', b'name': b'Juan', b'age': b'29', b'city': b'Lyon'}\n"
     ]
    }
   ],
   "source": [
    "r.hset('user', 'city', 'Lyon') # New attribute\n",
    "r.hset('user', 'name', 'Juan') # Update the name\n",
    "\n",
    "print(r.hgetall('user'))\n"
   ]
  },
  {
   "cell_type": "markdown",
   "metadata": {},
   "source": [
    "## Modelling a query cache with Redis\n",
    "\n",
    "You are modeling data from a REST query cache system with Redis.\n",
    "A request is identified by the http method and its url (without the protocol).\n",
    "The content of the request is stored as it is to be returned on demand."
   ]
  },
  {
   "cell_type": "markdown",
   "metadata": {},
   "source": [
    "**Q** : Insert a PUT request in the cache on http://my-api.fr/user/10 whose answer is {\"id\": 10, \"name\": \"jean\"}"
   ]
  },
  {
   "cell_type": "markdown",
   "metadata": {},
   "source": [
    "**SOLUTION:** \n",
    "<br>\n",
    "Start API using uvicorn and command `uvicorn app:app --host 0.0.0.0 --port 8000 --reload`\n"
   ]
  },
  {
   "cell_type": "code",
   "execution_count": 20,
   "metadata": {},
   "outputs": [
    {
     "name": "stdout",
     "output_type": "stream",
     "text": [
      "Stored content: b'{\"id\": 10, \"name\": \"jean\"}'\n"
     ]
    }
   ],
   "source": [
    "# Create the cache key\n",
    "cache_key = \"PUT:my-api.fr/user/10\"\n",
    "\n",
    "# Content\n",
    "response_content = '{\"id\": 10, \"name\": \"jean\"}'\n",
    "\n",
    "# Store in Redis cache\n",
    "r.set(cache_key, response_content)\n",
    "\n",
    "# Verify the content was stored correctly\n",
    "print(\"Stored content:\", r.get(cache_key))"
   ]
  },
  {
   "cell_type": "markdown",
   "metadata": {},
   "source": [
    "**Q** : Create a set of cache request keys."
   ]
  },
  {
   "cell_type": "code",
   "execution_count": 21,
   "metadata": {},
   "outputs": [
    {
     "name": "stdout",
     "output_type": "stream",
     "text": [
      "Cache keys: {b'GET:my-api.fr/users', b'POST:my-api.fr/user', b'PUT:my-api.fr/user/10'}\n"
     ]
    }
   ],
   "source": [
    "\n",
    "keys = [cache_key,\n",
    "        'GET:my-api.fr/users',\n",
    "        'POST:my-api.fr/user']\n",
    "\n",
    "for key in keys:\n",
    "    r.sadd('cache_keys', key)\n",
    "    \n",
    "# Display all cache keys in the set\n",
    "print(\"Cache keys:\", r.smembers('cache_keys'))"
   ]
  },
  {
   "cell_type": "markdown",
   "metadata": {},
   "source": [
    "**Q** : Check if the GET request on http: //http://my-api.fr/user"
   ]
  },
  {
   "cell_type": "code",
   "execution_count": 22,
   "metadata": {},
   "outputs": [
    {
     "name": "stdout",
     "output_type": "stream",
     "text": [
      "Checking if GET:my-api.fr/users exists in cache\n",
      "1\n",
      "Request found in cache with content: None\n"
     ]
    }
   ],
   "source": [
    "# Create the key to check\n",
    "check_key = 'GET:my-api.fr/users'\n",
    "\n",
    "# Using sismember check if exists\n",
    "is_in_cache = r.sismember('cache_keys', check_key)\n",
    "\n",
    "print(f\"Checking if {check_key} exists in cache\")\n",
    "print(is_in_cache)\n",
    "\n",
    "# Check if the key exists and has content\n",
    "if is_in_cache:\n",
    "    content = r.get(check_key)\n",
    "    print(f\"Request found in cache with content: {content}\")\n",
    "else:\n",
    "    print(\"Request not found in cache\")"
   ]
  },
  {
   "cell_type": "markdown",
   "metadata": {},
   "source": [
    "**Q** : Delete the PUT request on http://my-api.fr/user/10 from the cache."
   ]
  },
  {
   "cell_type": "code",
   "execution_count": 23,
   "metadata": {},
   "outputs": [
    {
     "name": "stdout",
     "output_type": "stream",
     "text": [
      "Cache keys after deletion: {b'GET:my-api.fr/users', b'POST:my-api.fr/user'}\n"
     ]
    }
   ],
   "source": [
    "key_to_delete = cache_key\n",
    "\n",
    "# Delete the key from the set\n",
    "r.srem('cache_keys', key_to_delete)\n",
    "\n",
    "# Verify the key was removed\n",
    "print(\"Cache keys after deletion:\", r.smembers('cache_keys'))\n"
   ]
  },
  {
   "cell_type": "markdown",
   "metadata": {},
   "source": [
    "## Postquisites\n",
    "\n",
    "The folloinwg command removes all data from your Redis cluster."
   ]
  },
  {
   "cell_type": "code",
   "execution_count": 24,
   "metadata": {},
   "outputs": [
    {
     "name": "stdout",
     "output_type": "stream",
     "text": [
      "zsh:1: command not found: redis-cli\n"
     ]
    }
   ],
   "source": [
    "!redis-cli flushall"
   ]
  }
 ],
 "metadata": {
  "kernelspec": {
   "display_name": "m2_nosql",
   "language": "python",
   "name": "python3"
  },
  "language_info": {
   "codemirror_mode": {
    "name": "ipython",
    "version": 3
   },
   "file_extension": ".py",
   "mimetype": "text/x-python",
   "name": "python",
   "nbconvert_exporter": "python",
   "pygments_lexer": "ipython3",
   "version": "3.11.10"
  }
 },
 "nbformat": 4,
 "nbformat_minor": 2
}
