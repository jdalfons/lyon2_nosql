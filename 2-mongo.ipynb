{
 "cells": [
  {
   "cell_type": "markdown",
   "metadata": {},
   "source": [
    "# Mongo tutorial"
   ]
  },
  {
   "cell_type": "markdown",
   "metadata": {},
   "source": [
    "## Prerequisites"
   ]
  },
  {
   "cell_type": "markdown",
   "metadata": {},
   "source": [
    "### Documentation\n",
    "\n",
    "You will find all documentation for :\n",
    "* [Mongo commands](https://docs.mongodb.com/manual/reference/)\n",
    "* [Mongo python client](http://api.mongodb.com/python/current/api/pymongo/mongo_client.html#pymongo.mongo_client.MongoClient)"
   ]
  },
  {
   "cell_type": "markdown",
   "metadata": {},
   "source": [
    "### Import libraries"
   ]
  },
  {
   "cell_type": "code",
   "execution_count": null,
   "metadata": {},
   "outputs": [],
   "source": [
    "import datetime\n",
    "from pprint import pprint\n",
    "\n",
    "import pymongo\n",
    "from pymongo import MongoClient"
   ]
  },
  {
   "cell_type": "code",
   "execution_count": null,
   "metadata": {},
   "outputs": [],
   "source": [
    "client = MongoClient('localhost', 27017)"
   ]
  },
  {
   "cell_type": "code",
   "execution_count": null,
   "metadata": {},
   "outputs": [],
   "source": [
    "# let's work in a test_database\n",
    "db = client.test_database\n",
    "posts = db.posts"
   ]
  },
  {
   "cell_type": "code",
   "execution_count": null,
   "metadata": {},
   "outputs": [],
   "source": [
    "post = {\n",
    "    \"author\": \"Mike\",\n",
    "    \"text\": \"My first blog post!\",\n",
    "    \"tags\": [\"mongodb\", \"python\", \"pymongo\"],\n",
    "    \"date\": datetime.datetime.utcnow()\n",
    "}\n",
    "post_id = posts.insert_one(post).inserted_id\n",
    "post_id"
   ]
  },
  {
   "cell_type": "code",
   "execution_count": null,
   "metadata": {},
   "outputs": [],
   "source": [
    "db.list_collection_names()"
   ]
  },
  {
   "cell_type": "code",
   "execution_count": null,
   "metadata": {},
   "outputs": [],
   "source": [
    "pprint(posts.find_one())"
   ]
  },
  {
   "cell_type": "markdown",
   "metadata": {},
   "source": [
    "You can launch a terminal aside, connect to your server with a mongo client and check that the value is present :\n",
    "\n",
    "```bash\n",
    "vagrant@nosql:~$ mongo\n",
    "> show databases;\n",
    "admin          0.000GB\n",
    "config         0.000GB\n",
    "local          0.000GB\n",
    "test_database  0.000GB\n",
    "> use test_database;\n",
    "switched to db test_database\n",
    "> db.posts.find()\n",
    "{ \n",
    "    \"_id\" : ObjectId(\"...\"), \n",
    "    \"author\" : \"Mike\", \n",
    "    \"text\" : \"My first blog post!\", \n",
    "    \"tags\" : [ \"mongodb\", \"python\", \"pymongo\"], \n",
    "    \"date\" : ISODate(\"2019-02-10T11:33:47.883Z\") \n",
    "}\n",
    "```"
   ]
  },
  {
   "cell_type": "markdown",
   "metadata": {},
   "source": [
    "## I. Quick start"
   ]
  },
  {
   "cell_type": "markdown",
   "metadata": {},
   "source": [
    "### First steps"
   ]
  },
  {
   "cell_type": "markdown",
   "metadata": {},
   "source": [
    "**Q** : Create a document `{msg: 'hello'}` in the `test` collection with `insert_one()`. Fetch it back to display it. What is the `_id` for ?\n",
    "\n",
    "NB : if the collection doesn't exist yet, MongoDB automatically creates it."
   ]
  },
  {
   "cell_type": "code",
   "execution_count": null,
   "metadata": {},
   "outputs": [],
   "source": [
    "test = db.test\n",
    "test_id = test.insert_one({\"msg\": \"hello\"}).inserted_id\n",
    "\n",
    "# Fetch and display the document\n",
    "pprint(test.find_one())"
   ]
  },
  {
   "cell_type": "markdown",
   "metadata": {},
   "source": [
    "**Q**: Display the number of documents inside the `test` collection"
   ]
  },
  {
   "cell_type": "code",
   "execution_count": null,
   "metadata": {},
   "outputs": [],
   "source": [
    "test.count_documents({})"
   ]
  },
  {
   "cell_type": "markdown",
   "metadata": {},
   "source": [
    "### Interacting with a database\n",
    "\n",
    "We have 2 `.json` files we want to interact with inside the `data` folder. Let's first dump them into a `MovieLens` database, inside `users` and `movies` collections.\n",
    "\n",
    "For this section, you will need to read a bit on [query operators](https://docs.mongodb.com/manual/reference/operator/query/#query-selectors). Most methods on collections you will use have `filter` as a first parameter, on which you must pass a dictionary of query parameters."
   ]
  },
  {
   "cell_type": "markdown",
   "metadata": {},
   "source": [
    "**Q** : In the `MovieLens` database, load `data/movielens_movies.json` into `movies` and `data/movielens_users.json` into `users`. \n",
    "\n",
    "Use the dedicated shell command for this : `mongoimport --db <some_db> --collection <some_collection> --file <some_file>` "
   ]
  },
  {
   "cell_type": "code",
   "execution_count": null,
   "metadata": {},
   "outputs": [],
   "source": [
    "import os\n",
    "import json\n",
    "\n",
    "\n",
    "# Create MovieLens database\n",
    "movielens_db = client.MovieLens\n",
    "\n",
    "# Create collections for movies and users\n",
    "movies = movielens_db.movies\n",
    "users = movielens_db.users\n",
    "\n",
    "# Read movies data\n",
    "try:\n",
    "    with open('data/movielens_movies.json', 'r') as f:\n",
    "        movies_data = [json.loads(line) for line in f]\n",
    "    \n",
    "    # Only insert if collection is empty\n",
    "    if movies.count_documents({}) == 0:\n",
    "        movies.insert_many(movies_data)\n",
    "    else:\n",
    "        print(\"Movies collection already populated\")\n",
    "except FileNotFoundError:\n",
    "    print(\"Warning: movielens_movies.json not found\")\n",
    "\n",
    "# Read users data\n",
    "try:\n",
    "    with open('data/movielens_users.json', 'r') as f:\n",
    "        users_data = [json.loads(line) for line in f]\n",
    "    \n",
    "    # Only insert if collection is empty\n",
    "    if users.count_documents({}) == 0:\n",
    "        users.insert_many(users_data)\n",
    "    else:\n",
    "        print(\"Users collection already populated\")\n",
    "except FileNotFoundError:\n",
    "    print(\"Warning: movielens_users.json not found\")\n",
    "\n",
    "\n",
    "\n"
   ]
  },
  {
   "cell_type": "markdown",
   "metadata": {},
   "source": [
    "**Q** : how many users are in the `MovieLens` database ?"
   ]
  },
  {
   "cell_type": "code",
   "execution_count": null,
   "metadata": {},
   "outputs": [],
   "source": [
    "print(f\"Number of users in MovieLens: {users.count_documents({})}\")"
   ]
  },
  {
   "cell_type": "code",
   "execution_count": null,
   "metadata": {},
   "outputs": [],
   "source": [
    "print(f\"Number of movies in MovieLens: {movies.count_documents({})}\")"
   ]
  },
  {
   "cell_type": "markdown",
   "metadata": {},
   "source": [
    "**Q** : Display all comedies (the `genres` property equals `Comedy`). \n",
    "\n",
    "NB : You will need to find how to go through a `command_cursor`, then use the `pprint` function for a better display of those documents."
   ]
  },
  {
   "cell_type": "code",
   "execution_count": null,
   "metadata": {},
   "outputs": [],
   "source": [
    "comedy_cursor = movies.find({'genres': 'Comedy'})\n",
    "\n",
    "for movie in comedy_cursor:\n",
    "    pprint(movie)"
   ]
  },
  {
   "cell_type": "markdown",
   "metadata": {},
   "source": [
    "**Q** : Fetch and display the `name` and `occupation` for Clifford Johnathan. The second paramater for `find()` ([doc here](https://api.mongodb.com/python/current/api/pymongo/collection.html#pymongo.collection.Collection.find)) is called the `projection` and is used to limit which data to fetch from the query."
   ]
  },
  {
   "cell_type": "code",
   "execution_count": null,
   "metadata": {},
   "outputs": [],
   "source": [
    "result = users.find_one({\"name\": \"Clifford Johnathan\"}, {\"name\": 1, \"occupation\": 1, \"_id\": 0})\n",
    "pprint(result)"
   ]
  },
  {
   "cell_type": "markdown",
   "metadata": {},
   "source": [
    "**Q**: How many minors (by `age`) have rated movies ?"
   ]
  },
  {
   "cell_type": "code",
   "execution_count": null,
   "metadata": {},
   "outputs": [],
   "source": [
    "minor_count = users.count_documents({\"age\": {\"$lt\": 18}})\n",
    "print(f\"Number of minors who rated movies: {minor_count}\")"
   ]
  },
  {
   "cell_type": "markdown",
   "metadata": {},
   "source": [
    "**Q**: Display science fiction movies ('Sci-Fi') and suspense movies ('Thriller'). This time you need to use a regex to parse genres and look for those values."
   ]
  },
  {
   "cell_type": "code",
   "execution_count": null,
   "metadata": {},
   "outputs": [],
   "source": [
    "import re\n",
    "\n",
    "sci_fi_thriller = movies.find({'genres': {'$regex': '(Sci-Fi|Thriller)'}})\n",
    "for movie in sci_fi_thriller:\n",
    "    pprint(movie)"
   ]
  },
  {
   "cell_type": "markdown",
   "metadata": {},
   "source": [
    "**Q**: If we want more advanced textual search, we need a particular index. Use the `create_index()` method to index as [TEXT](https://docs.mongodb.com/manual/core/index-text/) the `genres` field of the `movies` collection."
   ]
  },
  {
   "cell_type": "code",
   "execution_count": null,
   "metadata": {},
   "outputs": [],
   "source": [
    "movies.create_index([(\"genres\", \"text\")])"
   ]
  },
  {
   "cell_type": "markdown",
   "metadata": {},
   "source": [
    "**Q**: Restart the search for science fiction and thriller movies with the operator `$text`"
   ]
  },
  {
   "cell_type": "code",
   "execution_count": null,
   "metadata": {},
   "outputs": [],
   "source": [
    "sci_fi_thriller = movies.find({'$text': {'$search': 'Sci-Fi Thriller'}})\n",
    "for movie in sci_fi_thriller:\n",
    "    pprint(movie)"
   ]
  },
  {
   "cell_type": "markdown",
   "metadata": {},
   "source": [
    "**Q**: Display the first 30 movies (`limit`) in alphabetical order (`sort`) by title"
   ]
  },
  {
   "cell_type": "code",
   "execution_count": null,
   "metadata": {},
   "outputs": [],
   "source": [
    "movies.find().sort('title', 1).limit(30)\n",
    "for movie in movies.find().sort('title', 1).limit(30):\n",
    "    pprint(movie)"
   ]
  },
  {
   "cell_type": "markdown",
   "metadata": {},
   "source": [
    "**Q**: How many users have seen the movie \"Star Wars: Episode V - The Empire Strikes Back (1980)\" (`_id 1196`) ? The `movies` argument is an array so we should try the [elemMatch](https://docs.mongodb.com/manual/reference/operator/projection/elemMatch/) operator here."
   ]
  },
  {
   "cell_type": "code",
   "execution_count": null,
   "metadata": {},
   "outputs": [],
   "source": [
    "count = users.count_documents({\"movies\": {\"$elemMatch\": {\"movieid\": 1196}}})\n",
    "print(f\"Number of users who have seen Star Wars Episode V: {count}\")"
   ]
  },
  {
   "cell_type": "markdown",
   "metadata": {},
   "source": [
    "**Q**: And how many gave it a rating of 1 or 2 ?"
   ]
  },
  {
   "cell_type": "code",
   "execution_count": null,
   "metadata": {
    "vscode": {
     "languageId": "javascript"
    }
   },
   "outputs": [],
   "source": [
    "count_low_ratings = users.count_documents({\n",
    "    \"movies\": {\n",
    "        \"$elemMatch\": {\n",
    "            \"movieid\": 1196,\n",
    "            \"rating\": {\"$in\": [1, 2]}\n",
    "        }\n",
    "    }\n",
    "})\n",
    "print(f\"Number of users who rated Star Wars Episode V with 1 or 2 stars: {count_low_ratings}\")"
   ]
  },
  {
   "cell_type": "markdown",
   "metadata": {},
   "source": [
    "### Updating data"
   ]
  },
  {
   "cell_type": "markdown",
   "metadata": {},
   "source": [
    "**Q**: Insert a new user with the properties `name`, `gender` ('M' or'F'), `occupation` and `age`, using the `insert_one()` command. Display it with `find_one()`."
   ]
  },
  {
   "cell_type": "code",
   "execution_count": null,
   "metadata": {},
   "outputs": [],
   "source": [
    "# Insert a new user\n",
    "new_user = {\n",
    "    \"name\": \"John Smith\",\n",
    "    \"gender\": \"M\", \n",
    "    \"occupation\": \"programmer\",\n",
    "    \"age\": 28\n",
    "}\n",
    "\n",
    "users.insert_one(new_user)\n",
    "\n",
    "# Display the newly inserted user\n",
    "pprint(users.find_one({\"name\": \"John Smith\"}))"
   ]
  },
  {
   "cell_type": "markdown",
   "metadata": {},
   "source": [
    "**Q**: Add an appreciation on a viewed movie with `update_one()`, add the movies property containing a table with a document (`movieid`, `rating`, `timestamp` with the value `datetime.datetime.utcnow()`).\n",
    "\n",
    "You will need to read the documentation on [update operators](https://docs.mongodb.org/manual/reference/operator/update/)."
   ]
  },
  {
   "cell_type": "code",
   "execution_count": null,
   "metadata": {},
   "outputs": [],
   "source": [
    "users.update_one(\n",
    "    {\"name\": \"John Smith\"},\n",
    "    {\"$set\": {\n",
    "        \"movies\": [{\n",
    "            \"movieid\": 1,  # Toy Story\n",
    "            \"rating\": 5,\n",
    "            \"timestamp\": datetime.datetime.utcnow()\n",
    "        }]\n",
    "    }}\n",
    ")\n",
    "\n",
    "# Verify the update\n",
    "pprint(users.find_one({\"name\": \"John Smith\"}))"
   ]
  },
  {
   "cell_type": "markdown",
   "metadata": {},
   "source": [
    "**Q**: Find the number of users who have declared a `programmer` occupation. Modify them so that they are `developer`. Verify your update."
   ]
  },
  {
   "cell_type": "code",
   "execution_count": null,
   "metadata": {},
   "outputs": [],
   "source": [
    "# Count programmers\n",
    "programmer_count = users.count_documents({\"occupation\": \"programmer\"})\n",
    "print(f\"Number of programmers before update: {programmer_count}\")\n",
    "\n",
    "# Update programmers to developers\n",
    "update_result = users.update_many(\n",
    "    {\"occupation\": \"programmer\"},\n",
    "    {\"$set\": {\"occupation\": \"developer\"}}\n",
    ")\n",
    "print(f\"Modified {update_result.modified_count} documents\")\n",
    "\n",
    "# Verify update\n",
    "developer_count = users.count_documents({\"occupation\": \"developer\"})\n",
    "print(f\"Number of developers after update: {developer_count}\")"
   ]
  },
  {
   "cell_type": "markdown",
   "metadata": {},
   "source": [
    "## II. Modelling a blog\n",
    "\n",
    "We will now model a blog using Mongo. \n",
    "\n",
    "First, switch to a new `Blog` database. Each blog post will have the following arguments:\n",
    "\n",
    "* The author (author field, string type)\n",
    "* The date (date field, string type in YYYY-MM-DD format)\n",
    "* The content (field content)\n",
    "* Tags (field tags, a string array)\n",
    "* A list of comments (field comments) containing:\n",
    " * The author (author field, string type)\n",
    " * The date (date field, string type in YYYY-MM-DD format)\n",
    " * The content (field content)\n"
   ]
  },
  {
   "cell_type": "markdown",
   "metadata": {},
   "source": [
    "**Q**: Create a first post by `rick`, on January 15th, with the tags `mongodb` and `nosql`."
   ]
  },
  {
   "cell_type": "code",
   "execution_count": null,
   "metadata": {},
   "outputs": [],
   "source": [
    "# Switch to Blog database\n",
    "blog_db = client.Blog\n",
    "blog_posts = blog_db.posts\n",
    "\n",
    "# Create first post\n",
    "first_post = {\n",
    "    \"author\": \"rick\",\n",
    "    \"date\": \"2024-01-15\",\n",
    "    \"content\": \"This is my first post about MongoDB!\",\n",
    "    \"tags\": [\"mongodb\", \"nosql\"],\n",
    "    \"comments\": []\n",
    "}\n",
    "\n",
    "blog_posts.insert_one(first_post)"
   ]
  },
  {
   "cell_type": "markdown",
   "metadata": {},
   "source": [
    "**Q**: Create a second post by `kate`, on January 21, with the tag `nosql` and a comment from `rick` on the same day."
   ]
  },
  {
   "cell_type": "code",
   "execution_count": null,
   "metadata": {},
   "outputs": [],
   "source": [
    "second_post = {\n",
    "    \"author\": \"kate\",\n",
    "    \"date\": \"2024-01-21\",  \n",
    "    \"content\": \"Learning more about NoSQL databases!\",\n",
    "    \"tags\": [\"nosql\"],\n",
    "    \"comments\": [\n",
    "        {\n",
    "            \"author\": \"rick\",\n",
    "            \"date\": \"2024-01-21\",\n",
    "            \"content\": \"Great post about NoSQL!\"\n",
    "        }\n",
    "    ]\n",
    "}\n",
    "\n",
    "blog_posts.insert_one(second_post)"
   ]
  },
  {
   "cell_type": "markdown",
   "metadata": {},
   "source": [
    "**Q**: Display the author of the last post with the tag `nosql`"
   ]
  },
  {
   "cell_type": "code",
   "execution_count": null,
   "metadata": {},
   "outputs": [],
   "source": [
    "last_nosql_post = blog_posts.find({\"tags\": \"nosql\"}).sort(\"date\", -1).limit(1)\n",
    "for post in last_nosql_post:\n",
    "    print(f\"Author of last nosql post: {post['author']}\")"
   ]
  },
  {
   "cell_type": "markdown",
   "metadata": {},
   "source": [
    "**Q**: Add a comment by `jack` on January 25, to `kate`'s post"
   ]
  },
  {
   "cell_type": "code",
   "execution_count": null,
   "metadata": {},
   "outputs": [],
   "source": [
    "blog_posts.update_one(\n",
    "    {\"author\": \"kate\"},\n",
    "    {\"$push\": {\n",
    "        \"comments\": {\n",
    "            \"author\": \"jack\",\n",
    "            \"date\": \"2024-01-25\",\n",
    "            \"content\": \"Thanks for sharing this info about NoSQL!\"\n",
    "        }\n",
    "    }}\n",
    ")\n",
    "\n",
    "# Verify the update\n",
    "pprint(blog_posts.find_one({\"author\": \"kate\"}))"
   ]
  },
  {
   "cell_type": "markdown",
   "metadata": {},
   "source": [
    "**Q**: Display all comments by `kate`"
   ]
  },
  {
   "cell_type": "code",
   "execution_count": null,
   "metadata": {},
   "outputs": [],
   "source": [
    "# Find all posts with comments by kate\n",
    "comments_by_kate = blog_posts.find(\n",
    "    {\"comments.author\": \"kate\"},\n",
    "    {\"comments.$\": 1}  # Project only matching comments\n",
    ")\n",
    "\n",
    "for post in comments_by_kate:\n",
    "    for comment in post['comments']:\n",
    "        if comment['author'] == 'kate':\n",
    "            pprint(comment)"
   ]
  },
  {
   "cell_type": "markdown",
   "metadata": {},
   "source": [
    "## Postquisites"
   ]
  },
  {
   "cell_type": "code",
   "execution_count": null,
   "metadata": {},
   "outputs": [],
   "source": [
    "!mongo test_database --eval 'db.dropDatabase()'"
   ]
  },
  {
   "cell_type": "code",
   "execution_count": null,
   "metadata": {},
   "outputs": [],
   "source": [
    "!mongo MovieLens --eval 'db.dropDatabase()'"
   ]
  },
  {
   "cell_type": "code",
   "execution_count": null,
   "metadata": {},
   "outputs": [],
   "source": [
    "!mongo Blog --eval 'db.dropDatabase()'"
   ]
  }
 ],
 "metadata": {
  "kernelspec": {
   "display_name": "lyon2_env",
   "language": "python",
   "name": "python3"
  },
  "language_info": {
   "codemirror_mode": {
    "name": "ipython",
    "version": 3
   },
   "file_extension": ".py",
   "mimetype": "text/x-python",
   "name": "python",
   "nbconvert_exporter": "python",
   "pygments_lexer": "ipython3",
   "version": "3.12.9"
  }
 },
 "nbformat": 4,
 "nbformat_minor": 2
}
