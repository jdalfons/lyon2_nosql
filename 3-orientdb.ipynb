{
 "cells": [
  {
   "cell_type": "markdown",
   "metadata": {},
   "source": [
    "# OrientDB tutorial"
   ]
  },
  {
   "cell_type": "markdown",
   "metadata": {},
   "source": [
    "## Prerequisites"
   ]
  },
  {
   "cell_type": "markdown",
   "metadata": {},
   "source": [
    "### Documentation\n",
    "\n",
    "You will find all documentation for :\n",
    "* [OrientDB SQL reference](http://www.orientdb.com/docs/last/SQL-Functions.html)\n",
    "* [Orientdb python client](http://orientdb.com/docs/last/PyOrient-Client.html#working-with-the-client)"
   ]
  },
  {
   "cell_type": "markdown",
   "metadata": {},
   "source": [
    "## Import libraries"
   ]
  },
  {
   "cell_type": "code",
   "execution_count": null,
   "metadata": {},
   "outputs": [],
   "source": [
    "import pyorient"
   ]
  },
  {
   "cell_type": "code",
   "execution_count": null,
   "metadata": {},
   "outputs": [],
   "source": [
    "ROOT_PASSWORD = \"root\"\n",
    "client = pyorient.OrientDB(\"localhost\", 2424)\n",
    "try:\n",
    "    session_id = client.connect(\"root\", ROOT_PASSWORD)\n",
    "    print(\"Connected to OrientDB server successfully.\")\n",
    "except pyorient.PyOrientException as e:\n",
    "    print(f\"Failed to connect to OrientDB server: {e}\")"
   ]
  },
  {
   "cell_type": "code",
   "execution_count": null,
   "metadata": {},
   "outputs": [],
   "source": [
    "print(client.db_list())"
   ]
  },
  {
   "cell_type": "markdown",
   "metadata": {},
   "source": [
    "## I. Quick start"
   ]
  },
  {
   "cell_type": "markdown",
   "metadata": {},
   "source": [
    "### Creating the database"
   ]
  },
  {
   "cell_type": "markdown",
   "metadata": {},
   "source": [
    "**Q:** Create a database `gods` as a `GRAPH_DATABASE` in `MEMORY_STORAGE_TYPE`. \n",
    "\n",
    "We will use it to store relationships between Greek deities."
   ]
  },
  {
   "cell_type": "code",
   "execution_count": null,
   "metadata": {},
   "outputs": [],
   "source": [
    "try:\n",
    "    client.db_create(\"gods\", pyorient.DB_TYPE_GRAPH, pyorient.STORAGE_TYPE_MEMORY)\n",
    "    print(\"Database 'gods' created successfully.\")\n",
    "except pyorient.PyOrientException as e:\n",
    "    print(f\"Failed to create database: {e}\")"
   ]
  },
  {
   "cell_type": "markdown",
   "metadata": {},
   "source": [
    "**Q:** Connect your pyorient client to the `gods` database."
   ]
  },
  {
   "cell_type": "code",
   "execution_count": null,
   "metadata": {},
   "outputs": [],
   "source": [
    "try:\n",
    "    client.db_open(\"gods\", \"root\", ROOT_PASSWORD)\n",
    "    print(\"Connected to 'gods' database successfully.\")\n",
    "except pyorient.PyOrientException as e:\n",
    "    print(f\"Failed to connect to database: {e}\")"
   ]
  },
  {
   "cell_type": "markdown",
   "metadata": {},
   "source": [
    "**Q:** You should now be able to launch OrientDB queries through the Python client with the [command()](http://orientdb.com/docs/last/PyOrient-Client-Command.html) function. \n",
    "\n",
    "You should think of OrientDB as a Graph-Document database for the following questions. Each vertex and edge will contain information on it inside a JSON document.\n",
    "\n",
    "Create a new Vertex with content `{name: 'Zeus', symbol: 'thunder'}`. The [CREATE VERTEX : Create a vertex using JSON content](http://orientdb.com/docs/last/SQL-Create-Vertex.html) doc page should help you."
   ]
  },
  {
   "cell_type": "code",
   "execution_count": null,
   "metadata": {},
   "outputs": [],
   "source": [
    "try:\n",
    "    client.command(\"CREATE VERTEX SET name = 'Zeus', symbol = 'thunder'\")\n",
    "    print(\"Vertex for Zeus created successfully.\")\n",
    "except pyorient.PyOrientException as e:\n",
    "    print(f\"Failed to create vertex: {e}\")"
   ]
  },
  {
   "cell_type": "markdown",
   "metadata": {},
   "source": [
    "You have created a VERTEX in the previous question. The VERTEX is a [class](https://orientdb.com/docs/last/Tutorial-Classes.html) of OrientDB which defines a record that can be linked to others through EDGE instances.\n",
    "\n",
    "You can find all VERTEX created in the database with a SQL command on the `V` table, like `SELECT * FROM V`. \n",
    "\n",
    "**Q:** Print all current vertices in `gods`, it should only have `Zeus` though for now."
   ]
  },
  {
   "cell_type": "code",
   "execution_count": null,
   "metadata": {},
   "outputs": [],
   "source": [
    "try:\n",
    "    vertices = client.command(\"SELECT * FROM V\")\n",
    "    for vertex in vertices:\n",
    "        print(vertex)\n",
    "except pyorient.PyOrientException as e:\n",
    "    print(f\"Failed to query vertices: {e}\")"
   ]
  },
  {
   "cell_type": "markdown",
   "metadata": {},
   "source": [
    "**Q:** Create new vertices with content : \n",
    "```\n",
    "{name:Héra, symbol:tiara}\n",
    "{name:Poséidon, symbol:trident}\n",
    "{name:Athena, symbol:helmet}\n",
    "{name:Arès, symbol:weapons} \n",
    "```"
   ]
  },
  {
   "cell_type": "code",
   "execution_count": null,
   "metadata": {
    "vscode": {
     "languageId": "lua"
    }
   },
   "outputs": [],
   "source": [
    "try:\n",
    "    client.command(\"CREATE VERTEX SET name = 'Héra', symbol = 'tiara'\")\n",
    "    client.command(\"CREATE VERTEX SET name = 'Poséidon', symbol = 'trident'\")\n",
    "    client.command(\"CREATE VERTEX SET name = 'Athena', symbol = 'helmet'\")\n",
    "    client.command(\"CREATE VERTEX SET name = 'Arès', symbol = 'weapons'\")\n",
    "    print(\"Vertices created successfully.\")\n",
    "except pyorient.PyOrientException as e:\n",
    "    print(f\"Failed to create vertices: {e}\")"
   ]
  },
  {
   "cell_type": "markdown",
   "metadata": {},
   "source": [
    "**Q:** Display all vertices with name = `Arès`"
   ]
  },
  {
   "cell_type": "code",
   "execution_count": null,
   "metadata": {},
   "outputs": [],
   "source": [
    "try:\n",
    "    ares_vertices = client.command(\"SELECT * FROM V WHERE name = 'Arès'\")\n",
    "    for vertex in ares_vertices:\n",
    "        print(vertex)\n",
    "except pyorient.PyOrientException as e:\n",
    "    print(f\"Failed to query Arès vertices: {e}\")"
   ]
  },
  {
   "cell_type": "markdown",
   "metadata": {},
   "source": [
    "**Q:** Create an EDGE from `Zeus` to `Poséidon` with the content `{kind: 'sibling'}"
   ]
  },
  {
   "cell_type": "code",
   "execution_count": null,
   "metadata": {},
   "outputs": [],
   "source": [
    "try:\n",
    "    client.command(\"\"\"\n",
    "        CREATE EDGE FROM \n",
    "        (SELECT FROM V WHERE name = 'Zeus') \n",
    "        TO \n",
    "        (SELECT FROM V WHERE name = 'Poséidon') \n",
    "        SET kind = 'sibling'\n",
    "    \"\"\")\n",
    "    print(\"Edge created successfully between Zeus and Poséidon\")\n",
    "except pyorient.PyOrientException as e:\n",
    "    print(f\"Failed to create edge: {e}\")"
   ]
  },
  {
   "cell_type": "markdown",
   "metadata": {},
   "source": [
    "**Q:** Redisplay all vertices, discuss."
   ]
  },
  {
   "cell_type": "code",
   "execution_count": null,
   "metadata": {},
   "outputs": [],
   "source": [
    "try:\n",
    "    vertices = client.command(\"SELECT * FROM V\")\n",
    "    print(\"All vertices in the database:\")\n",
    "    for vertex in vertices:\n",
    "        print(f\"\\nVertex: {vertex.name}\")\n",
    "        print(f\"Symbol: {vertex.symbol}\")\n",
    "        # Display the edge information if it exists\n",
    "        if hasattr(vertex, 'out_'):\n",
    "            print(\"Outgoing edges:\", vertex.out_)\n",
    "        if hasattr(vertex, 'in_'):\n",
    "            print(\"Incoming edges:\", vertex.in_)\n",
    "except pyorient.PyOrientException as e:\n",
    "    print(f\"Failed to query vertices: {e}\")"
   ]
  },
  {
   "cell_type": "markdown",
   "metadata": {},
   "source": [
    "**Q:** Display all edges. They are contained in the class `E`"
   ]
  },
  {
   "cell_type": "code",
   "execution_count": null,
   "metadata": {},
   "outputs": [],
   "source": [
    "try:\n",
    "    edges = client.command(\"SELECT * FROM E\")\n",
    "    print(\"All edges in the database:\")\n",
    "    for edge in edges:\n",
    "        print(f\"\\nEdge: {edge.kind}\")\n",
    "        print(f\"From vertex: {edge.out}\")\n",
    "        print(f\"To vertex: {edge.in_}\")\n",
    "except pyorient.PyOrientException as e:\n",
    "    print(f\"Failed to query edges: {e}\")"
   ]
  },
  {
   "cell_type": "markdown",
   "metadata": {},
   "source": [
    "Two fields on vertices have appeared, containing the outgoing (out_) and incoming (in_) links.\n",
    "\n",
    "At the edge level, two fields point to the original (out) and destination (in) vertices.\n",
    "\n",
    "**Q:** Lets create some more edges :\n",
    "\n",
    "* Zeus > Héra (sibling)\n",
    "* Zeus > Arès (father)\n",
    "* Zeus > Athena (father)\n",
    "* Héra > Arès (mother)\n",
    "* Héra > Zeus (sibling)\n",
    "* Poséidon > Zeus (sibling)\n",
    "\n",
    "_Hint 1 :_ check [the CREATE EDGE doc page](http://orientdb.com/docs/last/SQL-Create-Edge.html) to find an example for creating edges on vertices using subqueries so you can run queries to fetch the vertices before creating an edge in between.\n",
    "\n",
    "_Hint 2 :_ after you have found the command to create edges between vertices with sub-queries, you should be well-versed enough in Python to create a list of all edges in the question, and loop the command on each element of the list to create all edges in one go =)"
   ]
  },
  {
   "cell_type": "code",
   "execution_count": null,
   "metadata": {},
   "outputs": [],
   "source": [
    "# Define the relationships as a list of tuples (from_god, to_god, relationship)\n",
    "edges = [\n",
    "    ('Zeus', 'Héra', 'sibling'),\n",
    "    ('Zeus', 'Arès', 'father'),\n",
    "    ('Zeus', 'Athena', 'father'),\n",
    "    ('Héra', 'Arès', 'mother'),\n",
    "    ('Héra', 'Zeus', 'sibling'),\n",
    "    ('Poséidon', 'Zeus', 'sibling')\n",
    "]\n",
    "\n",
    "try:\n",
    "    for from_god, to_god, rel in edges:\n",
    "        client.command(f\"\"\"\n",
    "            CREATE EDGE FROM \n",
    "            (SELECT FROM V WHERE name = '{from_god}')\n",
    "            TO\n",
    "            (SELECT FROM V WHERE name = '{to_god}')\n",
    "            SET kind = '{rel}'\n",
    "        \"\"\")\n",
    "    print(\"All edges created successfully\")\n",
    "except pyorient.PyOrientException as e:\n",
    "    print(f\"Failed to create edges: {e}\")"
   ]
  },
  {
   "cell_type": "markdown",
   "metadata": {},
   "source": [
    "### Looking for data"
   ]
  },
  {
   "cell_type": "markdown",
   "metadata": {},
   "source": [
    "**Q:** Using [out()](http://orientdb.com/docs/last/Tutorial-Working-with-graphs.html#querying-graphs) function, display all vertices connected and outgoing from Zeus.\n",
    "\n",
    "You should use the EXPAND() special function to transform the vertex collection in the result-set by expanding it, making the results more readable."
   ]
  },
  {
   "cell_type": "code",
   "execution_count": null,
   "metadata": {},
   "outputs": [],
   "source": [
    "try:\n",
    "    zeus_connections = client.command(\"SELECT EXPAND(out()) FROM V WHERE name = 'Zeus'\")\n",
    "    print(\"Vertices connected to Zeus through outgoing edges:\")\n",
    "    for vertex in zeus_connections:\n",
    "        print(f\"\\nVertex: {vertex.name}\")\n",
    "        print(f\"Symbol: {vertex.symbol}\")\n",
    "except pyorient.PyOrientException as e:\n",
    "    print(f\"Failed to query Zeus connections: {e}\")"
   ]
  },
  {
   "cell_type": "markdown",
   "metadata": {},
   "source": [
    "**Q:** Display all vertices which got a father (the vertices which are the destination of an arc whose kind attribute is father).\n",
    "\n",
    "_Hint: You can notice that we use the field `in` the arc, and not the function `in()` which applies to vertices._"
   ]
  },
  {
   "cell_type": "code",
   "execution_count": null,
   "metadata": {},
   "outputs": [],
   "source": [
    "try:\n",
    "    vertices_with_father = client.command(\"SELECT FROM V WHERE @rid IN (SELECT in FROM E WHERE kind = 'father')\")\n",
    "    print(\"Vertices that have a father:\")\n",
    "    for vertex in vertices_with_father:\n",
    "        print(f\"\\nVertex: {vertex.name}\")\n",
    "        print(f\"Symbol: {vertex.symbol}\")\n",
    "except pyorient.PyOrientException as e:\n",
    "    print(f\"Failed to query vertices with father: {e}\")"
   ]
  },
  {
   "cell_type": "markdown",
   "metadata": {},
   "source": [
    "**Q:** As in SQL, the operator `in` used in a clause `where` allows to restrict the possible values with an embedded query _(where ... in (select ...))_. \n",
    "\n",
    "Display the mothers, by displaying the vertices where an outgoing arc is part of the arcs where kind is a mother."
   ]
  },
  {
   "cell_type": "code",
   "execution_count": null,
   "metadata": {},
   "outputs": [],
   "source": [
    "try:\n",
    "    mothers = client.command(\"SELECT FROM V WHERE @rid IN (SELECT out FROM E WHERE kind = 'mother')\")\n",
    "    print(\"Vertices that are mothers:\")\n",
    "    for vertex in mothers:\n",
    "        print(f\"\\nVertex: {vertex.name}\")\n",
    "        print(f\"Symbol: {vertex.symbol}\")\n",
    "except pyorient.PyOrientException as e:\n",
    "    print(f\"Failed to query mothers: {e}\")"
   ]
  },
  {
   "cell_type": "markdown",
   "metadata": {},
   "source": [
    "**Q:** Display the brothers and sisters of Zeus (the destination summits of an arc whose kind is sibling and whose original summit is Zeus)."
   ]
  },
  {
   "cell_type": "code",
   "execution_count": null,
   "metadata": {},
   "outputs": [],
   "source": [
    "try:\n",
    "    zeus_siblings = client.command(\"SELECT EXPAND(out('E[kind=sibling]')) FROM V WHERE name = 'Zeus'\")\n",
    "    print(\"Zeus's siblings:\")\n",
    "    for vertex in zeus_siblings:\n",
    "        print(f\"\\nVertex: {vertex.name}\")\n",
    "        print(f\"Symbol: {vertex.symbol}\")\n",
    "except pyorient.PyOrientException as e:\n",
    "    print(f\"Failed to query Zeus's siblings: {e}\")"
   ]
  },
  {
   "cell_type": "markdown",
   "metadata": {},
   "source": [
    "## Modeling a Product Recommendation System"
   ]
  },
  {
   "cell_type": "markdown",
   "metadata": {},
   "source": [
    "You are currently modeling the data of a product recommendation system with OrientDB.\n",
    "\n",
    "The main purpose of such a system is to answer the question \"which products were purchased by their people who purchased product X? »\n",
    "\n",
    "Purchased products have only one name field. They are purchased by people who have a nickname.\n",
    "\n",
    "When a person buys a product, the date of purchase is stored. \n",
    "\n",
    "Instead of working with \"anonymous\" vertices and arcs, you will use classes. The `create class` command allows you to create custom classes.\n",
    "\n",
    "The vertex classes must extend V, the arc classes must extend E."
   ]
  },
  {
   "cell_type": "markdown",
   "metadata": {},
   "source": [
    "**Q:** Create an `eCommerce` database, and the necessary classes to model the system.\n",
    "\n",
    "PS : you can view all classes in the database with :\n",
    "\n",
    "```python\n",
    "for name in client.command(\"SELECT name FROM (SELECT expand(classes) FROM metadata:schema)\"):\n",
    "    print(name)\n",
    "```"
   ]
  },
  {
   "cell_type": "code",
   "execution_count": null,
   "metadata": {},
   "outputs": [],
   "source": [
    "# Create eCommerce database\n",
    "try:\n",
    "    client.db_create(\"eCommerce\", pyorient.DB_TYPE_GRAPH, pyorient.STORAGE_TYPE_MEMORY)\n",
    "    print(\"Database 'eCommerce' created successfully.\")\n",
    "except pyorient.PyOrientException as e:\n",
    "    print(f\"Failed to create database: {e}\")\n",
    "\n",
    "# Connect to the new database\n",
    "try:\n",
    "    client.db_open(\"eCommerce\", \"root\", ROOT_PASSWORD)\n",
    "    print(\"Connected to 'eCommerce' database successfully.\")\n",
    "except pyorient.PyOrientException as e:\n",
    "    print(f\"Failed to connect to database: {e}\")\n",
    "\n",
    "# Create classes for products and people (vertices)\n",
    "try:\n",
    "    client.command(\"CREATE CLASS Product EXTENDS V\")\n",
    "    client.command(\"CREATE CLASS Person EXTENDS V\")\n",
    "    print(\"Vertex classes created successfully.\")\n",
    "except pyorient.PyOrientException as e:\n",
    "    print(f\"Failed to create vertex classes: {e}\")\n",
    "\n",
    "# Create class for purchases (edges) with date property\n",
    "try:\n",
    "    client.command(\"CREATE CLASS Purchase EXTENDS E\")\n",
    "    client.command(\"CREATE PROPERTY Purchase.date DATE\")\n",
    "    print(\"Edge class created successfully.\")\n",
    "except pyorient.PyOrientException as e:\n",
    "    print(f\"Failed to create edge class: {e}\")\n",
    "\n",
    "# Display all classes\n",
    "print(\"\\nClasses in the database:\")\n",
    "for name in client.command(\"SELECT name FROM (SELECT expand(classes) FROM metadata:schema)\"):\n",
    "    print(name.name)"
   ]
  },
  {
   "cell_type": "markdown",
   "metadata": {},
   "source": [
    "**Q:** Create the following products: `spaghetti`, `bolognese sauce`, `cheese`, `apple`."
   ]
  },
  {
   "cell_type": "code",
   "execution_count": null,
   "metadata": {},
   "outputs": [],
   "source": [
    "try:\n",
    "    # Create products\n",
    "    products = ['spaghetti', 'bolognese sauce', 'cheese', 'apple']\n",
    "    for product in products:\n",
    "        client.command(f\"CREATE VERTEX Product SET name = '{product}'\")\n",
    "    print(\"Products created successfully.\")\n",
    "except pyorient.PyOrientException as e:\n",
    "    print(f\"Failed to create products: {e}\")"
   ]
  },
  {
   "cell_type": "markdown",
   "metadata": {},
   "source": [
    "**Q:** Create the following people: `peter`, `meredith`."
   ]
  },
  {
   "cell_type": "code",
   "execution_count": null,
   "metadata": {},
   "outputs": [],
   "source": [
    "try:\n",
    "    people = ['peter', 'meredith']\n",
    "    for person in people:\n",
    "        client.command(f\"CREATE VERTEX Person SET nickname = '{person}'\")\n",
    "    print(\"People created successfully.\")\n",
    "except pyorient.PyOrientException as e:\n",
    "    print(f\"Failed to create people: {e}\")"
   ]
  },
  {
   "cell_type": "markdown",
   "metadata": {},
   "source": [
    "**Q:** Create the following purchases: \n",
    "- peter > spaghetti + cheese on 20/01/2016 \n",
    "- meredith > cheese + apple + bolognese sauce on 22/01/2016\n",
    "- peter > spaghetti + bolognese sauce on 27/01/2016\n"
   ]
  },
  {
   "cell_type": "code",
   "execution_count": null,
   "metadata": {
    "vscode": {
     "languageId": "sql"
    }
   },
   "outputs": [],
   "source": [
    "try:\n",
    "    # Create purchases for Peter on 20/01/2016\n",
    "    client.command(\"\"\"\n",
    "        CREATE EDGE Purchase FROM \n",
    "        (SELECT FROM Person WHERE nickname = 'peter')\n",
    "        TO\n",
    "        (SELECT FROM Product WHERE name = 'spaghetti')\n",
    "        SET date = '2016-01-20'\n",
    "    \"\"\")\n",
    "    client.command(\"\"\"\n",
    "        CREATE EDGE Purchase FROM \n",
    "        (SELECT FROM Person WHERE nickname = 'peter')\n",
    "        TO\n",
    "        (SELECT FROM Product WHERE name = 'cheese')\n",
    "        SET date = '2016-01-20'\n",
    "    \"\"\")\n",
    "\n",
    "    # Create purchases for Meredith on 22/01/2016\n",
    "    client.command(\"\"\"\n",
    "        CREATE EDGE Purchase FROM \n",
    "        (SELECT FROM Person WHERE nickname = 'meredith')\n",
    "        TO\n",
    "        (SELECT FROM Product WHERE name = 'cheese')\n",
    "        SET date = '2016-01-22'\n",
    "    \"\"\")\n",
    "    client.command(\"\"\"\n",
    "        CREATE EDGE Purchase FROM \n",
    "        (SELECT FROM Person WHERE nickname = 'meredith')\n",
    "        TO\n",
    "        (SELECT FROM Product WHERE name = 'apple')\n",
    "        SET date = '2016-01-22'\n",
    "    \"\"\")\n",
    "    client.command(\"\"\"\n",
    "        CREATE EDGE Purchase FROM \n",
    "        (SELECT FROM Person WHERE nickname = 'meredith')\n",
    "        TO\n",
    "        (SELECT FROM Product WHERE name = 'bolognese sauce')\n",
    "        SET date = '2016-01-22'\n",
    "    \"\"\")\n",
    "\n",
    "    # Create purchases for Peter on 27/01/2016\n",
    "    client.command(\"\"\"\n",
    "        CREATE EDGE Purchase FROM \n",
    "        (SELECT FROM Person WHERE nickname = 'peter')\n",
    "        TO\n",
    "        (SELECT FROM Product WHERE name = 'spaghetti')\n",
    "        SET date = '2016-01-27'\n",
    "    \"\"\")\n",
    "    client.command(\"\"\"\n",
    "        CREATE EDGE Purchase FROM \n",
    "        (SELECT FROM Person WHERE nickname = 'peter')\n",
    "        TO\n",
    "        (SELECT FROM Product WHERE name = 'bolognese sauce')\n",
    "        SET date = '2016-01-27'\n",
    "    \"\"\")\n",
    "    \n",
    "    print(\"All purchases created successfully.\")\n",
    "except pyorient.PyOrientException as e:\n",
    "    print(f\"Failed to create purchases: {e}\")"
   ]
  },
  {
   "cell_type": "markdown",
   "metadata": {},
   "source": [
    "**Q:** Who bought Bolognese sauce?"
   ]
  },
  {
   "cell_type": "code",
   "execution_count": null,
   "metadata": {},
   "outputs": [],
   "source": [
    "try:\n",
    "    buyers = client.command(\"\"\"\n",
    "        SELECT EXPAND(in('Purchase')) \n",
    "        FROM Product \n",
    "        WHERE name = 'bolognese sauce'\n",
    "    \"\"\")\n",
    "    print(\"People who bought Bolognese sauce:\")\n",
    "    for buyer in buyers:\n",
    "        print(f\"- {buyer.nickname}\")\n",
    "except pyorient.PyOrientException as e:\n",
    "    print(f\"Failed to query buyers: {e}\")"
   ]
  },
  {
   "cell_type": "markdown",
   "metadata": {},
   "source": [
    "**Q:** It is possible to link the `out` and `in` navigation functions. What products are purchased with Bolognese sauce? "
   ]
  },
  {
   "cell_type": "code",
   "execution_count": null,
   "metadata": {
    "vscode": {
     "languageId": "sql"
    }
   },
   "outputs": [],
   "source": [
    "try:\n",
    "    # Find products purchased by people who bought bolognese sauce\n",
    "    co_purchased = client.command(\"\"\"\n",
    "        SELECT EXPAND(out('Purchase')) \n",
    "        FROM Person \n",
    "        WHERE @rid IN (\n",
    "            SELECT in FROM Purchase \n",
    "            WHERE out IN (\n",
    "                SELECT FROM Product \n",
    "                WHERE name = 'bolognese sauce'\n",
    "            )\n",
    "        )\n",
    "        AND @rid IN (\n",
    "            SELECT in FROM Purchase \n",
    "            WHERE out.name <> 'bolognese sauce'\n",
    "        )\n",
    "    \"\"\")\n",
    "    \n",
    "    print(\"Products purchased by people who bought Bolognese sauce:\")\n",
    "    for product in co_purchased:\n",
    "        print(f\"- {product.name}\")\n",
    "except pyorient.PyOrientException as e:\n",
    "    print(f\"Failed to query co-purchased products: {e}\")"
   ]
  },
  {
   "cell_type": "markdown",
   "metadata": {},
   "source": [
    "## Postquisites"
   ]
  },
  {
   "cell_type": "markdown",
   "metadata": {},
   "source": [
    "Since we create databases in memory, they get destroyed on server shutdown."
   ]
  }
 ],
 "metadata": {
  "kernelspec": {
   "display_name": "lyon2_env",
   "language": "python",
   "name": "python3"
  },
  "language_info": {
   "codemirror_mode": {
    "name": "ipython",
    "version": 3
   },
   "file_extension": ".py",
   "mimetype": "text/x-python",
   "name": "python",
   "nbconvert_exporter": "python",
   "pygments_lexer": "ipython3",
   "version": "3.12.9"
  }
 },
 "nbformat": 4,
 "nbformat_minor": 2
}
